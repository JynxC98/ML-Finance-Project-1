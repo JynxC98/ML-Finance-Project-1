{
 "cells": [
  {
   "cell_type": "markdown",
   "metadata": {},
   "source": [
    "# Predicting house prices with linear models\n",
    "\n",
    "In this project, you will work with the Ames house data set which we already encountered in the lectures. Your task is to evaluate the following four linear models in terms of their performance when predicting house prices:\n",
    "\n",
    "1. Linear regression\n",
    "2. Ridge regression\n",
    "3. Lasso\n",
    "4. Elastic net"
   ]
  },
  {
   "cell_type": "markdown",
   "metadata": {},
   "source": [
    "*General hints:*\n",
    "\n",
    "1. Clearly label all graphs (axes, title, legend if required).\n",
    "2. When asked to provide a specific answer (e.g., \"Report the number of non-zero coefficients...\") make sure the answer is clearly printed in the notebook.\n",
    "3. Whenever a computation involves random number generation, initialise the seed to `123` to get reproducible results. Specifically, for `scikit-learn` functions this requires passing `random_state=123` where applicable."
   ]
  },
  {
   "cell_type": "code",
   "execution_count": 64,
   "metadata": {},
   "outputs": [],
   "source": [
    "# Imports\n",
    "import numpy as np\n",
    "import pandas as pd\n",
    "import matplotlib.pyplot as plt\n",
    "import warnings\n",
    "warnings.filterwarnings(\"ignore\")"
   ]
  },
  {
   "cell_type": "markdown",
   "metadata": {},
   "source": [
    "## Data description\n",
    "\n",
    "The data is stored in `data/ames_houses.csv` in the course [GitHub repository](https://github.com/richardfoltyn/MLFP-ECON5130) and can be downloaded using the link\n",
    "[https://raw.githubusercontent.com/richardfoltyn/MLFP-ECON5130/main/data/ames_houses.csv](https://raw.githubusercontent.com/richardfoltyn/MLFP-ECON5130/main/data/ames_houses.csv).\n",
    "\n",
    "To load the data, you need to specify the file path depending on your computing environment:"
   ]
  },
  {
   "cell_type": "code",
   "execution_count": 2,
   "metadata": {},
   "outputs": [],
   "source": [
    "# Use this path if you want to download the file directly from Github\n",
    "file = 'https://raw.githubusercontent.com/richardfoltyn/MLFP-ECON5130/main/exercises/ames_houses.csv'"
   ]
  },
  {
   "cell_type": "code",
   "execution_count": 3,
   "metadata": {},
   "outputs": [],
   "source": [
    "data = pd.read_csv(file)"
   ]
  },
  {
   "cell_type": "code",
   "execution_count": 4,
   "metadata": {},
   "outputs": [
    {
     "data": {
      "text/html": [
       "<div>\n",
       "<style scoped>\n",
       "    .dataframe tbody tr th:only-of-type {\n",
       "        vertical-align: middle;\n",
       "    }\n",
       "\n",
       "    .dataframe tbody tr th {\n",
       "        vertical-align: top;\n",
       "    }\n",
       "\n",
       "    .dataframe thead th {\n",
       "        text-align: right;\n",
       "    }\n",
       "</style>\n",
       "<table border=\"1\" class=\"dataframe\">\n",
       "  <thead>\n",
       "    <tr style=\"text-align: right;\">\n",
       "      <th></th>\n",
       "      <th>SalePrice</th>\n",
       "      <th>LotArea</th>\n",
       "      <th>Neighborhood</th>\n",
       "      <th>BuildingType</th>\n",
       "      <th>OverallQuality</th>\n",
       "      <th>OverallCondition</th>\n",
       "      <th>YearBuilt</th>\n",
       "      <th>CentralAir</th>\n",
       "      <th>LivingArea</th>\n",
       "      <th>Bathrooms</th>\n",
       "      <th>Bedrooms</th>\n",
       "      <th>Fireplaces</th>\n",
       "      <th>HasGarage</th>\n",
       "    </tr>\n",
       "  </thead>\n",
       "  <tbody>\n",
       "    <tr>\n",
       "      <th>0</th>\n",
       "      <td>208500.0</td>\n",
       "      <td>784.954075</td>\n",
       "      <td>CollgCr</td>\n",
       "      <td>Single-family</td>\n",
       "      <td>7</td>\n",
       "      <td>5</td>\n",
       "      <td>2003</td>\n",
       "      <td>Y</td>\n",
       "      <td>158.848694</td>\n",
       "      <td>2</td>\n",
       "      <td>3</td>\n",
       "      <td>0</td>\n",
       "      <td>1</td>\n",
       "    </tr>\n",
       "    <tr>\n",
       "      <th>1</th>\n",
       "      <td>181500.0</td>\n",
       "      <td>891.782144</td>\n",
       "      <td>Veenker</td>\n",
       "      <td>Single-family</td>\n",
       "      <td>6</td>\n",
       "      <td>8</td>\n",
       "      <td>1976</td>\n",
       "      <td>Y</td>\n",
       "      <td>117.232194</td>\n",
       "      <td>2</td>\n",
       "      <td>3</td>\n",
       "      <td>1</td>\n",
       "      <td>1</td>\n",
       "    </tr>\n",
       "    <tr>\n",
       "      <th>2</th>\n",
       "      <td>223500.0</td>\n",
       "      <td>1045.057200</td>\n",
       "      <td>CollgCr</td>\n",
       "      <td>Single-family</td>\n",
       "      <td>7</td>\n",
       "      <td>5</td>\n",
       "      <td>2001</td>\n",
       "      <td>Y</td>\n",
       "      <td>165.908636</td>\n",
       "      <td>2</td>\n",
       "      <td>3</td>\n",
       "      <td>1</td>\n",
       "      <td>1</td>\n",
       "    </tr>\n",
       "    <tr>\n",
       "      <th>3</th>\n",
       "      <td>140000.0</td>\n",
       "      <td>887.137445</td>\n",
       "      <td>Crawfor</td>\n",
       "      <td>Single-family</td>\n",
       "      <td>7</td>\n",
       "      <td>5</td>\n",
       "      <td>1915</td>\n",
       "      <td>Y</td>\n",
       "      <td>159.498952</td>\n",
       "      <td>1</td>\n",
       "      <td>3</td>\n",
       "      <td>1</td>\n",
       "      <td>1</td>\n",
       "    </tr>\n",
       "    <tr>\n",
       "      <th>4</th>\n",
       "      <td>250000.0</td>\n",
       "      <td>1324.668060</td>\n",
       "      <td>NoRidge</td>\n",
       "      <td>Single-family</td>\n",
       "      <td>8</td>\n",
       "      <td>5</td>\n",
       "      <td>2000</td>\n",
       "      <td>Y</td>\n",
       "      <td>204.180953</td>\n",
       "      <td>2</td>\n",
       "      <td>4</td>\n",
       "      <td>1</td>\n",
       "      <td>1</td>\n",
       "    </tr>\n",
       "  </tbody>\n",
       "</table>\n",
       "</div>"
      ],
      "text/plain": [
       "   SalePrice      LotArea Neighborhood   BuildingType  OverallQuality  \\\n",
       "0   208500.0   784.954075      CollgCr  Single-family               7   \n",
       "1   181500.0   891.782144      Veenker  Single-family               6   \n",
       "2   223500.0  1045.057200      CollgCr  Single-family               7   \n",
       "3   140000.0   887.137445      Crawfor  Single-family               7   \n",
       "4   250000.0  1324.668060      NoRidge  Single-family               8   \n",
       "\n",
       "   OverallCondition  YearBuilt CentralAir  LivingArea  Bathrooms  Bedrooms  \\\n",
       "0                 5       2003          Y  158.848694          2         3   \n",
       "1                 8       1976          Y  117.232194          2         3   \n",
       "2                 5       2001          Y  165.908636          2         3   \n",
       "3                 5       1915          Y  159.498952          1         3   \n",
       "4                 5       2000          Y  204.180953          2         4   \n",
       "\n",
       "   Fireplaces  HasGarage  \n",
       "0           0          1  \n",
       "1           1          1  \n",
       "2           1          1  \n",
       "3           1          1  \n",
       "4           1          1  "
      ]
     },
     "execution_count": 4,
     "metadata": {},
     "output_type": "execute_result"
    }
   ],
   "source": [
    "data.head()"
   ]
  },
  {
   "cell_type": "markdown",
   "metadata": {},
   "source": [
    "You can load the CSV file as a `pandas` `DataFrame` as follows:"
   ]
  },
  {
   "cell_type": "code",
   "execution_count": 5,
   "metadata": {},
   "outputs": [
    {
     "data": {
      "text/html": [
       "<div>\n",
       "<style scoped>\n",
       "    .dataframe tbody tr th:only-of-type {\n",
       "        vertical-align: middle;\n",
       "    }\n",
       "\n",
       "    .dataframe tbody tr th {\n",
       "        vertical-align: top;\n",
       "    }\n",
       "\n",
       "    .dataframe thead th {\n",
       "        text-align: right;\n",
       "    }\n",
       "</style>\n",
       "<table border=\"1\" class=\"dataframe\">\n",
       "  <thead>\n",
       "    <tr style=\"text-align: right;\">\n",
       "      <th></th>\n",
       "      <th>SalePrice</th>\n",
       "      <th>LotArea</th>\n",
       "      <th>OverallQuality</th>\n",
       "      <th>OverallCondition</th>\n",
       "      <th>YearBuilt</th>\n",
       "      <th>LivingArea</th>\n",
       "      <th>Bathrooms</th>\n",
       "      <th>Bedrooms</th>\n",
       "      <th>Fireplaces</th>\n",
       "      <th>HasGarage</th>\n",
       "    </tr>\n",
       "  </thead>\n",
       "  <tbody>\n",
       "    <tr>\n",
       "      <th>count</th>\n",
       "      <td>1460.000000</td>\n",
       "      <td>1460.000000</td>\n",
       "      <td>1460.000000</td>\n",
       "      <td>1460.000000</td>\n",
       "      <td>1460.000000</td>\n",
       "      <td>1460.000000</td>\n",
       "      <td>1460.000000</td>\n",
       "      <td>1460.000000</td>\n",
       "      <td>1460.000000</td>\n",
       "      <td>1460.0</td>\n",
       "    </tr>\n",
       "    <tr>\n",
       "      <th>mean</th>\n",
       "      <td>180921.195890</td>\n",
       "      <td>976.949947</td>\n",
       "      <td>6.099315</td>\n",
       "      <td>5.575342</td>\n",
       "      <td>1971.267808</td>\n",
       "      <td>140.777444</td>\n",
       "      <td>1.565068</td>\n",
       "      <td>2.866438</td>\n",
       "      <td>0.613014</td>\n",
       "      <td>1.0</td>\n",
       "    </tr>\n",
       "    <tr>\n",
       "      <th>std</th>\n",
       "      <td>79442.502883</td>\n",
       "      <td>927.199358</td>\n",
       "      <td>1.382997</td>\n",
       "      <td>1.112799</td>\n",
       "      <td>30.202904</td>\n",
       "      <td>48.813961</td>\n",
       "      <td>0.550916</td>\n",
       "      <td>0.815778</td>\n",
       "      <td>0.644666</td>\n",
       "      <td>0.0</td>\n",
       "    </tr>\n",
       "    <tr>\n",
       "      <th>min</th>\n",
       "      <td>34900.000000</td>\n",
       "      <td>120.762165</td>\n",
       "      <td>1.000000</td>\n",
       "      <td>1.000000</td>\n",
       "      <td>1872.000000</td>\n",
       "      <td>31.026587</td>\n",
       "      <td>0.000000</td>\n",
       "      <td>0.000000</td>\n",
       "      <td>0.000000</td>\n",
       "      <td>1.0</td>\n",
       "    </tr>\n",
       "    <tr>\n",
       "      <th>25%</th>\n",
       "      <td>129975.000000</td>\n",
       "      <td>701.674628</td>\n",
       "      <td>5.000000</td>\n",
       "      <td>5.000000</td>\n",
       "      <td>1954.000000</td>\n",
       "      <td>104.923743</td>\n",
       "      <td>1.000000</td>\n",
       "      <td>2.000000</td>\n",
       "      <td>0.000000</td>\n",
       "      <td>1.0</td>\n",
       "    </tr>\n",
       "    <tr>\n",
       "      <th>50%</th>\n",
       "      <td>163000.000000</td>\n",
       "      <td>880.495526</td>\n",
       "      <td>6.000000</td>\n",
       "      <td>5.000000</td>\n",
       "      <td>1973.000000</td>\n",
       "      <td>135.996777</td>\n",
       "      <td>2.000000</td>\n",
       "      <td>3.000000</td>\n",
       "      <td>1.000000</td>\n",
       "      <td>1.0</td>\n",
       "    </tr>\n",
       "    <tr>\n",
       "      <th>75%</th>\n",
       "      <td>214000.000000</td>\n",
       "      <td>1077.709432</td>\n",
       "      <td>7.000000</td>\n",
       "      <td>6.000000</td>\n",
       "      <td>2000.000000</td>\n",
       "      <td>165.049367</td>\n",
       "      <td>2.000000</td>\n",
       "      <td>3.000000</td>\n",
       "      <td>1.000000</td>\n",
       "      <td>1.0</td>\n",
       "    </tr>\n",
       "    <tr>\n",
       "      <th>max</th>\n",
       "      <td>755000.000000</td>\n",
       "      <td>19994.963289</td>\n",
       "      <td>10.000000</td>\n",
       "      <td>9.000000</td>\n",
       "      <td>2010.000000</td>\n",
       "      <td>524.107798</td>\n",
       "      <td>3.000000</td>\n",
       "      <td>8.000000</td>\n",
       "      <td>3.000000</td>\n",
       "      <td>1.0</td>\n",
       "    </tr>\n",
       "  </tbody>\n",
       "</table>\n",
       "</div>"
      ],
      "text/plain": [
       "           SalePrice       LotArea  OverallQuality  OverallCondition  \\\n",
       "count    1460.000000   1460.000000     1460.000000       1460.000000   \n",
       "mean   180921.195890    976.949947        6.099315          5.575342   \n",
       "std     79442.502883    927.199358        1.382997          1.112799   \n",
       "min     34900.000000    120.762165        1.000000          1.000000   \n",
       "25%    129975.000000    701.674628        5.000000          5.000000   \n",
       "50%    163000.000000    880.495526        6.000000          5.000000   \n",
       "75%    214000.000000   1077.709432        7.000000          6.000000   \n",
       "max    755000.000000  19994.963289       10.000000          9.000000   \n",
       "\n",
       "         YearBuilt   LivingArea    Bathrooms     Bedrooms   Fireplaces  \\\n",
       "count  1460.000000  1460.000000  1460.000000  1460.000000  1460.000000   \n",
       "mean   1971.267808   140.777444     1.565068     2.866438     0.613014   \n",
       "std      30.202904    48.813961     0.550916     0.815778     0.644666   \n",
       "min    1872.000000    31.026587     0.000000     0.000000     0.000000   \n",
       "25%    1954.000000   104.923743     1.000000     2.000000     0.000000   \n",
       "50%    1973.000000   135.996777     2.000000     3.000000     1.000000   \n",
       "75%    2000.000000   165.049367     2.000000     3.000000     1.000000   \n",
       "max    2010.000000   524.107798     3.000000     8.000000     3.000000   \n",
       "\n",
       "       HasGarage  \n",
       "count     1460.0  \n",
       "mean         1.0  \n",
       "std          0.0  \n",
       "min          1.0  \n",
       "25%          1.0  \n",
       "50%          1.0  \n",
       "75%          1.0  \n",
       "max          1.0  "
      ]
     },
     "execution_count": 5,
     "metadata": {},
     "output_type": "execute_result"
    }
   ],
   "source": [
    "data.describe()"
   ]
  },
  {
   "cell_type": "markdown",
   "metadata": {},
   "source": [
    "The included variables are a simplified subset of the data available at [openml.org](https://www.openml.org/d/42165):\n",
    "\n",
    "- `SalePrice`: House price in US dollars (float)\n",
    "- `LotArea`: Size of the lot in m² (float)\n",
    "- `Neighborhood`: Name of the neighborhood (string)\n",
    "- `BuildingType`: Type of building (categorical stored as string)\n",
    "- `OverallQuality`: Rates the overall condition of the house from (1) \"very poor\" to (10) \"excellent\" (integer)\n",
    "- `OverallCondition`: Rates the overall material and finish of the house from (1) \"very poor\" to (10) \"excellent\" (integer)\n",
    "- `YearBuilt`: Original construction date (integer)\n",
    "- `CentralAir`: Central air conditioning: Yes/No (categorical string)\n",
    "- `LivingArea`: Above-ground living area in m² (float)\n",
    "- `Bathrooms`: Number of bathrooms (integer)\n",
    "- `Bedrooms`: Number of bedrooms (integer)\n",
    "- `Fireplaces`: Number of fireplaces (integer)\n",
    "- `HasGarage`: Indicator whether house has a garage (integer)"
   ]
  },
  {
   "cell_type": "markdown",
   "metadata": {},
   "source": [
    "# Data preprocessing\n",
    "\n",
    "Apply the following steps to preprocess the data before estimation:\n",
    "\n",
    "1. Drop all rows which contain any missing values (`NaN`)\n",
    "\n",
    "    *Hint:* Use [`dropna()`](https://pandas.pydata.org/docs/reference/api/pandas.DataFrame.dropna.html)\n",
    "    to remove rows with missing observations.\n",
    "    \n",
    "2. Trim outliers:\n",
    "    1. Compute the 1st and 99th percentiles of the variables \n",
    "        `SalePrice`, `LivingArea` and `LotArea`\n",
    "    2. Drop all observations in which any of these variables is below its\n",
    "        1st percentile or above its 99th percentile.\n",
    "\n",
    "    *Hint:* Use [`quantile()`](https://pandas.pydata.org/docs/reference/api/pandas.DataFrame.quantile.html)\n",
    "    to compute the percentiles for the relevant variables. To convert percentiles to quantiles,\n",
    "    you need to divide by 100.\n",
    "\n",
    "3. Recode the string values in column `CentralAir` into numbers such that \n",
    "    `'N'` is mapped to 0 and `'Y'` is mapped to 1. Store this numerical variable\n",
    "    using the column name `HasCentralAir`.\n",
    "4. Recode the values in column `Fireplaces` and create the new variable `HasFireplace`\n",
    "    so that `HasFireplace = 1` whenever at least one fireplace is present and \n",
    "    `HasFireplace = 0` otherwise.\n",
    "5. Recode the string values in column `BuildingType` and create the new variable\n",
    "    `IsSingleFamily` which takes on the value 1 whenever a house is a \n",
    "    single-family home and 0 otherwise.\n",
    "6. Plot the kernel densities (or histograms) for the variables `SalePrice`, `LivingArea` and `LotArea`.\n",
    "    You will notice that all three variables have a \n",
    "    [right-skewed](https://en.wikipedia.org/wiki/Skewness) distribution.\n",
    "    \n",
    "    *Hint:* You can plot kernel densities using \n",
    "    [`DataFrame.plot.kde()`](https://pandas.pydata.org/docs/reference/api/pandas.DataFrame.plot.kde.html)\n",
    "    and histograms with \n",
    "    [`DataFrame.plot.hist()`](https://pandas.pydata.org/docs/reference/api/pandas.DataFrame.plot.hist.html)\n",
    "7. Convert the variables `SalePrice`, `LivingArea` and `LotArea` to (natural) logs and re-create\n",
    "    the kernel density or histogram plots for the logged variables.\n",
    "    Name the transformed columns `logSalePrice`, `logLivingArea` and `logLotArea`."
   ]
  },
  {
   "cell_type": "markdown",
   "metadata": {},
   "source": [
    "### 1. Dropping all the null values"
   ]
  },
  {
   "cell_type": "code",
   "execution_count": 6,
   "metadata": {},
   "outputs": [
    {
     "data": {
      "text/plain": [
       "SalePrice            0\n",
       "LotArea              0\n",
       "Neighborhood         0\n",
       "BuildingType        74\n",
       "OverallQuality       0\n",
       "OverallCondition     0\n",
       "YearBuilt            0\n",
       "CentralAir           0\n",
       "LivingArea           0\n",
       "Bathrooms            0\n",
       "Bedrooms             0\n",
       "Fireplaces           0\n",
       "HasGarage            0\n",
       "dtype: int64"
      ]
     },
     "execution_count": 6,
     "metadata": {},
     "output_type": "execute_result"
    }
   ],
   "source": [
    "data.isnull().sum()"
   ]
  },
  {
   "cell_type": "code",
   "execution_count": 7,
   "metadata": {},
   "outputs": [],
   "source": [
    "data.dropna(inplace = True)"
   ]
  },
  {
   "cell_type": "markdown",
   "metadata": {},
   "source": [
    "### 2. Trimming the outliers"
   ]
  },
  {
   "cell_type": "code",
   "execution_count": 8,
   "metadata": {},
   "outputs": [],
   "source": [
    "def trim_outliers(df, **kwargs):\n",
    "    \"\"\"Trims outliers of the dataframe\n",
    "    kwargs: The column names for which the outliers are to be dropped.\n",
    "    df: The main dataframe\n",
    "    \"\"\"\n",
    "    for column in kwargs.values():\n",
    "        df = df[(df[column] > df[column].quantile(0.01)) &\n",
    "                (df[column] < df[column].quantile(0.99))\n",
    "               ]\n",
    "    return df\n",
    "    \n",
    "    "
   ]
  },
  {
   "cell_type": "code",
   "execution_count": 9,
   "metadata": {},
   "outputs": [],
   "source": [
    "data_new = trim_outliers(data, \n",
    "                         column_1 = \"SalePrice\", \n",
    "                         column_2 = \"LivingArea\", \n",
    "                         column_3 = \"LotArea\")"
   ]
  },
  {
   "cell_type": "markdown",
   "metadata": {},
   "source": [
    "### 3. Encoding the data"
   ]
  },
  {
   "cell_type": "code",
   "execution_count": 10,
   "metadata": {},
   "outputs": [],
   "source": [
    "data_new[\"HasCentralAir\"] = data_new[\"CentralAir\"].apply(lambda x: 1 if x == \"Y\" else 0)\n",
    "data_new[\"HasFirePlace\"] = data_new[\"Fireplaces\"].apply(lambda x: 1 if x == \"Y\" else 0)\n",
    "data_new[\"IsSingleFamily\"] = data_new[\"BuildingType\"].apply(lambda x: 1 if x == \"Single-family\" else 0)"
   ]
  },
  {
   "cell_type": "code",
   "execution_count": 11,
   "metadata": {},
   "outputs": [
    {
     "data": {
      "text/html": [
       "<div>\n",
       "<style scoped>\n",
       "    .dataframe tbody tr th:only-of-type {\n",
       "        vertical-align: middle;\n",
       "    }\n",
       "\n",
       "    .dataframe tbody tr th {\n",
       "        vertical-align: top;\n",
       "    }\n",
       "\n",
       "    .dataframe thead th {\n",
       "        text-align: right;\n",
       "    }\n",
       "</style>\n",
       "<table border=\"1\" class=\"dataframe\">\n",
       "  <thead>\n",
       "    <tr style=\"text-align: right;\">\n",
       "      <th></th>\n",
       "      <th>SalePrice</th>\n",
       "      <th>LotArea</th>\n",
       "      <th>Neighborhood</th>\n",
       "      <th>BuildingType</th>\n",
       "      <th>OverallQuality</th>\n",
       "      <th>OverallCondition</th>\n",
       "      <th>YearBuilt</th>\n",
       "      <th>CentralAir</th>\n",
       "      <th>LivingArea</th>\n",
       "      <th>Bathrooms</th>\n",
       "      <th>Bedrooms</th>\n",
       "      <th>Fireplaces</th>\n",
       "      <th>HasGarage</th>\n",
       "      <th>HasCentralAir</th>\n",
       "      <th>HasFirePlace</th>\n",
       "      <th>IsSingleFamily</th>\n",
       "    </tr>\n",
       "  </thead>\n",
       "  <tbody>\n",
       "    <tr>\n",
       "      <th>0</th>\n",
       "      <td>208500.0</td>\n",
       "      <td>784.954075</td>\n",
       "      <td>CollgCr</td>\n",
       "      <td>Single-family</td>\n",
       "      <td>7</td>\n",
       "      <td>5</td>\n",
       "      <td>2003</td>\n",
       "      <td>Y</td>\n",
       "      <td>158.848694</td>\n",
       "      <td>2</td>\n",
       "      <td>3</td>\n",
       "      <td>0</td>\n",
       "      <td>1</td>\n",
       "      <td>1</td>\n",
       "      <td>0</td>\n",
       "      <td>1</td>\n",
       "    </tr>\n",
       "    <tr>\n",
       "      <th>1</th>\n",
       "      <td>181500.0</td>\n",
       "      <td>891.782144</td>\n",
       "      <td>Veenker</td>\n",
       "      <td>Single-family</td>\n",
       "      <td>6</td>\n",
       "      <td>8</td>\n",
       "      <td>1976</td>\n",
       "      <td>Y</td>\n",
       "      <td>117.232194</td>\n",
       "      <td>2</td>\n",
       "      <td>3</td>\n",
       "      <td>1</td>\n",
       "      <td>1</td>\n",
       "      <td>1</td>\n",
       "      <td>0</td>\n",
       "      <td>1</td>\n",
       "    </tr>\n",
       "    <tr>\n",
       "      <th>2</th>\n",
       "      <td>223500.0</td>\n",
       "      <td>1045.057200</td>\n",
       "      <td>CollgCr</td>\n",
       "      <td>Single-family</td>\n",
       "      <td>7</td>\n",
       "      <td>5</td>\n",
       "      <td>2001</td>\n",
       "      <td>Y</td>\n",
       "      <td>165.908636</td>\n",
       "      <td>2</td>\n",
       "      <td>3</td>\n",
       "      <td>1</td>\n",
       "      <td>1</td>\n",
       "      <td>1</td>\n",
       "      <td>0</td>\n",
       "      <td>1</td>\n",
       "    </tr>\n",
       "    <tr>\n",
       "      <th>3</th>\n",
       "      <td>140000.0</td>\n",
       "      <td>887.137445</td>\n",
       "      <td>Crawfor</td>\n",
       "      <td>Single-family</td>\n",
       "      <td>7</td>\n",
       "      <td>5</td>\n",
       "      <td>1915</td>\n",
       "      <td>Y</td>\n",
       "      <td>159.498952</td>\n",
       "      <td>1</td>\n",
       "      <td>3</td>\n",
       "      <td>1</td>\n",
       "      <td>1</td>\n",
       "      <td>1</td>\n",
       "      <td>0</td>\n",
       "      <td>1</td>\n",
       "    </tr>\n",
       "    <tr>\n",
       "      <th>4</th>\n",
       "      <td>250000.0</td>\n",
       "      <td>1324.668060</td>\n",
       "      <td>NoRidge</td>\n",
       "      <td>Single-family</td>\n",
       "      <td>8</td>\n",
       "      <td>5</td>\n",
       "      <td>2000</td>\n",
       "      <td>Y</td>\n",
       "      <td>204.180953</td>\n",
       "      <td>2</td>\n",
       "      <td>4</td>\n",
       "      <td>1</td>\n",
       "      <td>1</td>\n",
       "      <td>1</td>\n",
       "      <td>0</td>\n",
       "      <td>1</td>\n",
       "    </tr>\n",
       "  </tbody>\n",
       "</table>\n",
       "</div>"
      ],
      "text/plain": [
       "   SalePrice      LotArea Neighborhood   BuildingType  OverallQuality  \\\n",
       "0   208500.0   784.954075      CollgCr  Single-family               7   \n",
       "1   181500.0   891.782144      Veenker  Single-family               6   \n",
       "2   223500.0  1045.057200      CollgCr  Single-family               7   \n",
       "3   140000.0   887.137445      Crawfor  Single-family               7   \n",
       "4   250000.0  1324.668060      NoRidge  Single-family               8   \n",
       "\n",
       "   OverallCondition  YearBuilt CentralAir  LivingArea  Bathrooms  Bedrooms  \\\n",
       "0                 5       2003          Y  158.848694          2         3   \n",
       "1                 8       1976          Y  117.232194          2         3   \n",
       "2                 5       2001          Y  165.908636          2         3   \n",
       "3                 5       1915          Y  159.498952          1         3   \n",
       "4                 5       2000          Y  204.180953          2         4   \n",
       "\n",
       "   Fireplaces  HasGarage  HasCentralAir  HasFirePlace  IsSingleFamily  \n",
       "0           0          1              1             0               1  \n",
       "1           1          1              1             0               1  \n",
       "2           1          1              1             0               1  \n",
       "3           1          1              1             0               1  \n",
       "4           1          1              1             0               1  "
      ]
     },
     "execution_count": 11,
     "metadata": {},
     "output_type": "execute_result"
    }
   ],
   "source": [
    "data_new.head()"
   ]
  },
  {
   "cell_type": "markdown",
   "metadata": {},
   "source": [
    "### 4. Plotting histograms for `SalePrice `, `LotArea`, and `LivingArea`"
   ]
  },
  {
   "cell_type": "code",
   "execution_count": 12,
   "metadata": {},
   "outputs": [],
   "source": [
    "import scipy.stats as sp"
   ]
  },
  {
   "cell_type": "code",
   "execution_count": 13,
   "metadata": {},
   "outputs": [
    {
     "data": {
      "image/png": "[encoded data removed]",
      "text/plain": [
       "<Figure size 1440x1080 with 3 Axes>"
      ]
     },
     "metadata": {
      "needs_background": "light"
     },
     "output_type": "display_data"
    }
   ],
   "source": [
    "requried_rows = [\"SalePrice\", \"LotArea\", \"LivingArea\"]\n",
    "fig, ax = plt.subplots(3, figsize = (20, 15))\n",
    "for idx, row in enumerate(requried_rows):\n",
    "    ax[idx].hist(data_new[row])\n",
    "    ax[idx].set_xlabel(f\"Price distibution of {row}\")\n",
    "    ax[idx].set_ylabel(\"Frequency\")\n",
    "    ax[idx].set_title(f\"Distribution of {row}\")"
   ]
  },
  {
   "cell_type": "markdown",
   "metadata": {},
   "source": [
    "### 4. Logarithm tranformation of the columns  `SalePrice `, `LotArea`, and `LivingArea`"
   ]
  },
  {
   "cell_type": "code",
   "execution_count": 14,
   "metadata": {},
   "outputs": [],
   "source": [
    "data_new[\"LogSalePrice\"] = data_new[\"SalePrice\"].apply(lambda x: np.log(x))\n",
    "data_new[\"LogLotArea\"] = data_new[\"LotArea\"].apply(lambda x: np.log(x)) \n",
    "data_new[\"LogLivingArea\"] = data_new[\"LivingArea\"].apply(lambda x: np.log(x))"
   ]
  },
  {
   "cell_type": "code",
   "execution_count": 22,
   "metadata": {},
   "outputs": [
    {
     "data": {
      "text/plain": [
       "<matplotlib.axes._subplots.AxesSubplot at 0x7fca7ce6c520>"
      ]
     },
     "execution_count": 22,
     "metadata": {},
     "output_type": "execute_result"
    },
    {
     "data": {
      "image/png": "[encoded data removed]",
      "text/plain": [
       "<Figure size 720x360 with 1 Axes>"
      ]
     },
     "metadata": {
      "needs_background": "light"
     },
     "output_type": "display_data"
    }
   ],
   "source": [
    "data_new[\"LogSalePrice\"].hist(figsize = (10, 5))"
   ]
  },
  {
   "cell_type": "code",
   "execution_count": 23,
   "metadata": {},
   "outputs": [
    {
     "data": {
      "text/plain": [
       "<matplotlib.axes._subplots.AxesSubplot at 0x7fca7ce2d7c0>"
      ]
     },
     "execution_count": 23,
     "metadata": {},
     "output_type": "execute_result"
    },
    {
     "data": {
      "image/png": "[encoded data removed]",
      "text/plain": [
       "<Figure size 720x360 with 1 Axes>"
      ]
     },
     "metadata": {
      "needs_background": "light"
     },
     "output_type": "display_data"
    }
   ],
   "source": [
    "data_new[\"LogLotArea\"].hist(figsize = (10, 5))"
   ]
  },
  {
   "cell_type": "code",
   "execution_count": 25,
   "metadata": {},
   "outputs": [
    {
     "data": {
      "text/plain": [
       "<matplotlib.axes._subplots.AxesSubplot at 0x7fca7cffd640>"
      ]
     },
     "execution_count": 25,
     "metadata": {},
     "output_type": "execute_result"
    },
    {
     "data": {
      "image/png": "[encoded data removed]",
      "text/plain": [
       "<Figure size 720x360 with 1 Axes>"
      ]
     },
     "metadata": {
      "needs_background": "light"
     },
     "output_type": "display_data"
    }
   ],
   "source": [
    "data_new[\"LivingArea\"].hist(figsize = (10, 5))"
   ]
  },
  {
   "cell_type": "markdown",
   "metadata": {},
   "source": [
    "# Estimation\n",
    "\n",
    "## Model specification\n",
    "\n",
    "You are now asked to estimate the following model of house prices\n",
    "as a function of house characteristics:\n",
    "$$\n",
    "\\begin{aligned}\n",
    "\\log(SalePrice_i) \n",
    "    &= \\alpha + f\\Bigl(\\log(LivingArea_i), ~\n",
    "        \\log(LotArea_i), ~OverallCondition_i, \\\\\n",
    "    & \\qquad \\qquad \\qquad  OverallQuality_i,~ \n",
    "    Bathrooms_i,~ Bedrooms_i\\Bigr) \\\\\n",
    "    &+ \\gamma_0 YearBuilt_i + \n",
    "    \\gamma_1 HasCentralAir_i + \n",
    "    \\gamma_2 HasFireplace_i + \n",
    "    \\gamma_3 IsSingleFamily_i + \n",
    "    \\epsilon_i\n",
    "\\end{aligned}\n",
    "$$\n",
    "where $i$ indexes observations and $\\epsilon$ is an additive error term.\n",
    "The function $f(\\bullet)$ is a *polynomial of degree 3* in its\n",
    "arguments, i.e., it includes all terms and interactions of the given variables\n",
    "where the exponents sum to 3 or less:\n",
    "$$\n",
    "\\begin{aligned}\n",
    "f(\\log(LivingArea_i), \\log(LotArea_i), \\dots)\n",
    "    &= \\beta_0 \\log(LivingArea_i) \n",
    "    + \\beta_1 \\log(LivingArea_i)^2 \\\\\n",
    "    &+ \\beta_2 \\log(LivingArea_i)^3 \n",
    "    + \\beta_3 \\log(LotArea_i) \\\\\n",
    "    &+ \\beta_4 \\log(LotArea_i)^2\n",
    "    + \\beta_5 \\log(LotArea_i)^3 \\\\\n",
    "    &+ \\beta_6 \\log(LivingArea_i)\\log(LotArea_i) \\\\\n",
    "    &+ \\beta_7 \\log(LivingArea_i)^2 \\log(LotArea_i) \\\\\n",
    "    &+ \\beta_8 \\log(LivingArea_i) \\log(LotArea_i)^2 \\\\\n",
    "    &+ \\cdots \n",
    "\\end{aligned}\n",
    "$$"
   ]
  },
  {
   "cell_type": "markdown",
   "metadata": {},
   "source": [
    "Create a feature matrix `X` which contains all polynomial interactions as well as the remaining non-interacted variables.\n",
    "\n",
    "*Hints:* \n",
    "\n",
    "- Use the \n",
    "[`PolynomialFeatures`](https://scikit-learn.org/stable/modules/generated/sklearn.preprocessing.PolynomialFeatures.html)\n",
    "transformation to create the polynomial terms and interactions from the columns\n",
    "    `logLivingArea`, `logLotArea`, \n",
    "    `OverallCondition`, `OverallQuality`, \n",
    "    `Bathrooms` and  `Bedrooms`.\n",
    "- Make sure that the generated polynomial does *not* contain a \n",
    "constant (\"bias\"). You should include the intercept when estimating a model instead.\n",
    "- You can use [`np.hstack()`](https://numpy.org/doc/stable/reference/generated/numpy.hstack.html) to concatenate two matrices (the polynomials and the remaining covariates) along the column dimension.\n",
    "- The complete feature matrix `X` should contain a total of 87 columns."
   ]
  },
  {
   "cell_type": "code",
   "execution_count": 26,
   "metadata": {},
   "outputs": [],
   "source": [
    "from sklearn.preprocessing import PolynomialFeatures"
   ]
  },
  {
   "cell_type": "code",
   "execution_count": 36,
   "metadata": {},
   "outputs": [],
   "source": [
    "poly = PolynomialFeatures(3, include_bias=False)"
   ]
  },
  {
   "cell_type": "code",
   "execution_count": 37,
   "metadata": {},
   "outputs": [],
   "source": [
    "X = poly.fit_transform(data_new[[\"LogLivingArea\", \"LogLotArea\", \"OverallCondition\", \"OverallQuality\", \"Bathrooms\", \"Bedrooms\"]])"
   ]
  },
  {
   "cell_type": "code",
   "execution_count": 42,
   "metadata": {},
   "outputs": [],
   "source": [
    "X = np.hstack((X, data_new[['YearBuilt', 'HasCentralAir', 'HasFirePlace', 'IsSingleFamily']]))"
   ]
  },
  {
   "cell_type": "code",
   "execution_count": 43,
   "metadata": {},
   "outputs": [
    {
     "data": {
      "text/plain": [
       "array([[5.06795214, 6.66562521, 5.        , ..., 1.        , 0.        ,\n",
       "        1.        ],\n",
       "       [4.76415654, 6.79322187, 8.        , ..., 1.        , 0.        ,\n",
       "        1.        ],\n",
       "       [5.11143725, 6.9518269 , 5.        , ..., 1.        , 0.        ,\n",
       "        1.        ],\n",
       "       ...,\n",
       "       [5.3816097 , 6.73333916, 9.        , ..., 1.        , 0.        ,\n",
       "        1.        ],\n",
       "       [4.60656624, 6.8053357 , 6.        , ..., 1.        , 0.        ,\n",
       "        1.        ],\n",
       "       [4.75939084, 6.82772394, 6.        , ..., 1.        , 0.        ,\n",
       "        1.        ]])"
      ]
     },
     "execution_count": 43,
     "metadata": {},
     "output_type": "execute_result"
    }
   ],
   "source": [
    "X"
   ]
  },
  {
   "cell_type": "code",
   "execution_count": 45,
   "metadata": {},
   "outputs": [],
   "source": [
    "y = np.log(data_new.SalePrice)"
   ]
  },
  {
   "cell_type": "markdown",
   "metadata": {},
   "source": [
    "## Train-test sample split\n",
    "\n",
    "Split the data into a training and a test subset such that the training\n",
    "sample contains 70% of observations.\n",
    "\n",
    "*Hint:* \n",
    "\n",
    "- Use the function [`train_test_split()`](https://scikit-learn.org/stable/modules/generated/sklearn.model_selection.train_test_split.html) to split the sample.\n",
    "    Pass the argument `random_state=123` to get reproducible results.\n",
    "- Make sure to define the training and test samples only *once* so that they are identical for all estimators used below. "
   ]
  },
  {
   "cell_type": "code",
   "execution_count": 44,
   "metadata": {},
   "outputs": [],
   "source": [
    "from sklearn.model_selection import train_test_split"
   ]
  },
  {
   "cell_type": "code",
   "execution_count": 46,
   "metadata": {},
   "outputs": [],
   "source": [
    "X_train, X_test, y_train, y_test = train_test_split(X, y, test_size=0.33, random_state=123)"
   ]
  },
  {
   "cell_type": "markdown",
   "metadata": {},
   "source": [
    "## Linear regression\n",
    "\n",
    "Perform the following tasks:\n",
    "\n",
    "1. Comment on whether you need to standardise features before estimating a linear regression model. Does the linear regression model have any hyperparameters?\n",
    "2. Estimate the above model specification using a linear regression model on the training sub-set. \n",
    "3. Compute and report the mean squared error (MSE) on the test sample.\n",
    "4. Plot the prediction errors (on the $y$-axis) against the outcome variable on the test sample.\n",
    "\n",
    "*Hints:*\n",
    "\n",
    "- Use the [`LinearRegression`](https://scikit-learn.org/stable/modules/generated/sklearn.linear_model.LinearRegression.html) class to estimate the model.\n",
    "- The mean squared error can be computed with [`mean_squared_error()`](https://scikit-learn.org/stable/modules/generated/sklearn.metrics.mean_squared_error.html)."
   ]
  },
  {
   "cell_type": "code",
   "execution_count": 52,
   "metadata": {},
   "outputs": [],
   "source": [
    "from sklearn.metrics import mean_squared_error, r2_score\n",
    "from sklearn.linear_model import LinearRegression\n"
   ]
  },
  {
   "cell_type": "code",
   "execution_count": 48,
   "metadata": {},
   "outputs": [],
   "source": [
    "lin_reg = LinearRegression(fit_intercept=True)"
   ]
  },
  {
   "cell_type": "code",
   "execution_count": 49,
   "metadata": {},
   "outputs": [
    {
     "data": {
      "text/plain": [
       "LinearRegression()"
      ]
     },
     "execution_count": 49,
     "metadata": {},
     "output_type": "execute_result"
    }
   ],
   "source": [
    "lin_reg.fit(X_train, y_train)"
   ]
  },
  {
   "cell_type": "code",
   "execution_count": 51,
   "metadata": {},
   "outputs": [],
   "source": [
    "y_pred = lin_reg.predict(X_test)"
   ]
  },
  {
   "cell_type": "code",
   "execution_count": 53,
   "metadata": {},
   "outputs": [],
   "source": [
    "error = mean_squared_error(y_test, y_pred)"
   ]
  },
  {
   "cell_type": "code",
   "execution_count": 54,
   "metadata": {},
   "outputs": [],
   "source": [
    "rmse = np.sqrt(error)"
   ]
  },
  {
   "cell_type": "code",
   "execution_count": 55,
   "metadata": {},
   "outputs": [],
   "source": [
    "r2 = r2_score(y_test, y_pred)"
   ]
  },
  {
   "cell_type": "code",
   "execution_count": 57,
   "metadata": {},
   "outputs": [
    {
     "name": "stdout",
     "output_type": "stream",
     "text": [
      "The r2 score of the model is 0.8190 with a MSE of 0.0230 and RMSE of 0.1517\n"
     ]
    }
   ],
   "source": [
    "print(f\"The r2 score of the model is {r2:.4f} with a MSE of {error:.4f} and RMSE of {rmse:.4f}\")"
   ]
  },
  {
   "cell_type": "code",
   "execution_count": 70,
   "metadata": {},
   "outputs": [
    {
     "data": {
      "text/plain": [
       "<matplotlib.lines.Line2D at 0x7fca80958370>"
      ]
     },
     "execution_count": 70,
     "metadata": {},
     "output_type": "execute_result"
    },
    {
     "data": {
      "image/png": "[encoded data removed]",
      "text/plain": [
       "<Figure size 432x288 with 1 Axes>"
      ]
     },
     "metadata": {
      "needs_background": "light"
     },
     "output_type": "display_data"
    }
   ],
   "source": [
    "plt.scatter(y_pred,\n",
    "           (y_test - y_pred)\n",
    "           )\n",
    "plt.axhline(0.0)"
   ]
  },
  {
   "cell_type": "markdown",
   "metadata": {},
   "source": [
    "## Ridge regression\n",
    "\n",
    "Perform the following tasks:\n",
    "\n",
    "1. Does Ridge regression require feature standardisation? If so, don't forget to apply it before fitting the model.\n",
    "2. Use [`RidgeCV`](https://scikit-learn.org/stable/modules/generated/sklearn.linear_model.RidgeCV.html)\n",
    "    to determine the best regularisation strength $\\alpha$ on the training sub-sample.\n",
    "    You can use the MSE metric (the default) to find the optimal $\\alpha$.\n",
    "    Report the optimal $\\alpha$ and the corresponding MSE.\n",
    "3. Plot the MSE (averaged over folds on the training sub-sample) against the regularisation strength $\\alpha$ on the $x$-axis (use a log scale for the $x$-axis).\n",
    "4. Compute and report the MSE on the test sample.\n",
    "5. Plot the prediction errors (on the $y$-axis) against the outcome variable on the test sample.\n",
    "\n",
    "*Hints:* \n",
    "\n",
    "- Determine a suitable range for the grid of candidate $\\alpha$ and space them uniformly in logs. \n",
    "- Recall that the (negative!) best MSE is stored in the attribute `best_score_` after cross-validation is complete."
   ]
  },
  {
   "cell_type": "code",
   "execution_count": 58,
   "metadata": {},
   "outputs": [],
   "source": [
    "from sklearn.linear_model import RidgeCV"
   ]
  },
  {
   "cell_type": "code",
   "execution_count": 74,
   "metadata": {},
   "outputs": [],
   "source": [
    "alphas = np.linspace(0.1, 10, 100)"
   ]
  },
  {
   "cell_type": "code",
   "execution_count": 75,
   "metadata": {},
   "outputs": [],
   "source": [
    "ridge = RidgeCV(alphas=alphas)"
   ]
  },
  {
   "cell_type": "code",
   "execution_count": 76,
   "metadata": {},
   "outputs": [
    {
     "data": {
      "text/plain": [
       "RidgeCV(alphas=array([ 0.1,  0.2,  0.3,  0.4,  0.5,  0.6,  0.7,  0.8,  0.9,  1. ,  1.1,\n",
       "        1.2,  1.3,  1.4,  1.5,  1.6,  1.7,  1.8,  1.9,  2. ,  2.1,  2.2,\n",
       "        2.3,  2.4,  2.5,  2.6,  2.7,  2.8,  2.9,  3. ,  3.1,  3.2,  3.3,\n",
       "        3.4,  3.5,  3.6,  3.7,  3.8,  3.9,  4. ,  4.1,  4.2,  4.3,  4.4,\n",
       "        4.5,  4.6,  4.7,  4.8,  4.9,  5. ,  5.1,  5.2,  5.3,  5.4,  5.5,\n",
       "        5.6,  5.7,  5.8,  5.9,  6. ,  6.1,  6.2,  6.3,  6.4,  6.5,  6.6,\n",
       "        6.7,  6.8,  6.9,  7. ,  7.1,  7.2,  7.3,  7.4,  7.5,  7.6,  7.7,\n",
       "        7.8,  7.9,  8. ,  8.1,  8.2,  8.3,  8.4,  8.5,  8.6,  8.7,  8.8,\n",
       "        8.9,  9. ,  9.1,  9.2,  9.3,  9.4,  9.5,  9.6,  9.7,  9.8,  9.9,\n",
       "       10. ]))"
      ]
     },
     "execution_count": 76,
     "metadata": {},
     "output_type": "execute_result"
    }
   ],
   "source": [
    "ridge.fit(X_train, y_train)"
   ]
  },
  {
   "cell_type": "code",
   "execution_count": 78,
   "metadata": {},
   "outputs": [],
   "source": [
    "y_pred_ridge = ridge.predict(X_test)"
   ]
  },
  {
   "cell_type": "code",
   "execution_count": 84,
   "metadata": {},
   "outputs": [],
   "source": [
    "r2_ridge = r2_score(y_test, y_pred_ridge)"
   ]
  },
  {
   "cell_type": "code",
   "execution_count": 80,
   "metadata": {},
   "outputs": [],
   "source": [
    "mse_ridge = mean_squared_error(y_test, y_pred_ridge)"
   ]
  },
  {
   "cell_type": "code",
   "execution_count": 82,
   "metadata": {},
   "outputs": [],
   "source": [
    "rmse_ridge = np.sqrt(mse_ridge)"
   ]
  },
  {
   "cell_type": "code",
   "execution_count": 85,
   "metadata": {},
   "outputs": [
    {
     "name": "stdout",
     "output_type": "stream",
     "text": [
      "The r2 score of the ridge model is 0.8487 with a MSE of 0.0192 and RMSE of 0.1387\n"
     ]
    }
   ],
   "source": [
    "print(f\"The r2 score of the ridge model is {r2_ridge:.4f} with a MSE of {mse_ridge:.4f} and RMSE of {rmse_ridge:.4f}\")"
   ]
  },
  {
   "cell_type": "markdown",
   "metadata": {},
   "source": [
    "## Lasso\n",
    "\n",
    "Perform the following tasks:\n",
    "\n",
    "1. Does Lasso require feature standardisation? If so, don't forget to apply it before fitting the model.\n",
    "2. Use [`LassoCV`](https://scikit-learn.org/stable/modules/generated/sklearn.linear_model.LassoCV.html)\n",
    "    to determine the best regularisation strength $\\alpha$ on the training sub-sample\n",
    "    using cross-validation with 5 folds.\n",
    "    You can use the MSE metric (the default) to find the optimal $\\alpha$.\n",
    "    Report the optimal $\\alpha$ and the corresponding MSE.\n",
    "3. Plot the MSE (averaged over folds on the training sub-sample) against the regularisation strength $\\alpha$ on the $x$-axis (use a log scale for the $x$-axis).\n",
    "4. Compute and report the MSE on the test sample for the model using the optimal $\\alpha$.\n",
    "5. Report the number of non-zero coefficients for the model using the optimal $\\alpha$.\n",
    "6. Plot the prediction errors (on the $y$-axis) against the outcome variable on the test sample.\n",
    "\n",
    "*Hints:* \n",
    "\n",
    "- Getting Lasso to converge may require some experimentation. The following settings should help: increase the max. number of iterations to `max_iter=100000` and use `selection='random'`. Set `random_state=123` to get reproducible results:\n",
    "\n",
    "    ```python\n",
    "    LassoCV(..., max_iter=100000, selection='random', random_state=123)\n",
    "    ```\n",
    "\n",
    "- After cross-validation is complete, the MSE for each value of $\\alpha$ and each fold are stored in the attribute `mse_path_` which is an array with shape `(N_ALPHA, N_FOLDS)`."
   ]
  },
  {
   "cell_type": "code",
   "execution_count": 86,
   "metadata": {},
   "outputs": [],
   "source": [
    "from sklearn.linear_model import LassoCV"
   ]
  },
  {
   "cell_type": "code",
   "execution_count": 87,
   "metadata": {},
   "outputs": [],
   "source": [
    "lasso = LassoCV(alphas=alphas, max_iter = 100000, selection=\"random\", random_state=123)"
   ]
  },
  {
   "cell_type": "code",
   "execution_count": 88,
   "metadata": {},
   "outputs": [
    {
     "data": {
      "text/plain": [
       "LassoCV(alphas=array([ 0.1,  0.2,  0.3,  0.4,  0.5,  0.6,  0.7,  0.8,  0.9,  1. ,  1.1,\n",
       "        1.2,  1.3,  1.4,  1.5,  1.6,  1.7,  1.8,  1.9,  2. ,  2.1,  2.2,\n",
       "        2.3,  2.4,  2.5,  2.6,  2.7,  2.8,  2.9,  3. ,  3.1,  3.2,  3.3,\n",
       "        3.4,  3.5,  3.6,  3.7,  3.8,  3.9,  4. ,  4.1,  4.2,  4.3,  4.4,\n",
       "        4.5,  4.6,  4.7,  4.8,  4.9,  5. ,  5.1,  5.2,  5.3,  5.4,  5.5,\n",
       "        5.6,  5.7,  5.8,  5.9,  6. ,  6.1,  6.2,  6.3,  6.4,  6.5,  6.6,\n",
       "        6.7,  6.8,  6.9,  7. ,  7.1,  7.2,  7.3,  7.4,  7.5,  7.6,  7.7,\n",
       "        7.8,  7.9,  8. ,  8.1,  8.2,  8.3,  8.4,  8.5,  8.6,  8.7,  8.8,\n",
       "        8.9,  9. ,  9.1,  9.2,  9.3,  9.4,  9.5,  9.6,  9.7,  9.8,  9.9,\n",
       "       10. ]),\n",
       "        max_iter=100000, random_state=123, selection='random')"
      ]
     },
     "execution_count": 88,
     "metadata": {},
     "output_type": "execute_result"
    }
   ],
   "source": [
    "lasso.fit(X_train, y_train)"
   ]
  },
  {
   "cell_type": "code",
   "execution_count": 89,
   "metadata": {},
   "outputs": [],
   "source": [
    "y_pred_lasso = lasso.predict(X_test)"
   ]
  },
  {
   "cell_type": "code",
   "execution_count": 90,
   "metadata": {},
   "outputs": [
    {
     "data": {
      "text/plain": [
       "0.01745144677359223"
      ]
     },
     "execution_count": 90,
     "metadata": {},
     "output_type": "execute_result"
    }
   ],
   "source": [
    "mean_squared_error(y_test, y_pred_lasso)"
   ]
  },
  {
   "cell_type": "code",
   "execution_count": 91,
   "metadata": {},
   "outputs": [
    {
     "data": {
      "text/plain": [
       "0.8627841068651054"
      ]
     },
     "execution_count": 91,
     "metadata": {},
     "output_type": "execute_result"
    }
   ],
   "source": [
    "r2_score(y_test, y_pred_lasso)"
   ]
  },
  {
   "cell_type": "code",
   "execution_count": 92,
   "metadata": {},
   "outputs": [
    {
     "data": {
      "text/plain": [
       "0.1"
      ]
     },
     "execution_count": 92,
     "metadata": {},
     "output_type": "execute_result"
    }
   ],
   "source": [
    "lasso.alpha_"
   ]
  },
  {
   "cell_type": "markdown",
   "metadata": {},
   "source": [
    "## Elastic net\n",
    "\n",
    "The elastic net is a linear model that applies both L1 and L2 regularisation, i.e., it's a generalisation of Ridge regression and Lasso. Its loss function is given by\n",
    "$$\n",
    "L(\\mu, \\mathbf{\\beta}) = \\frac{1}{2N}\n",
    "    \\underbrace{\\sum_{i=1}^N \\Bigl(\n",
    "    y_i - \\mu - \\mathbf{x}_i'\\mathbf{\\beta}\\Bigr)^2}_{\\text{Sum of squared errors}}\n",
    "    + \n",
    "    \\underbrace{\\alpha \\rho \\sum_{k=1}^K |\\beta_k|}_{\\text{L1 penalty}}    \n",
    "    + \n",
    "    \\underbrace{\\alpha (1-\\rho) \\sum_{k=1}^K\\beta_k^2}_{\\text{L2 penalty}}\n",
    "$$\n",
    "The additional parameter $\\rho$ is called the L1 ratio and determines the relative weight of the L1 vs L2 penalty terms (see also the `scikit-learn` \n",
    "[user guide](https://scikit-learn.org/stable/modules/linear_model.html#elastic-net)).\n",
    "Compared to Ridge regression and Lasso, this model therefore includes two hyperparameters, $\\alpha$ and $\\rho$, both of which should be determined using cross-validation.\n",
    "It is easy to see that for the corner case of $\\rho = 1$, the elastic net corresponds to the Lasso, while for $\\rho = 0$ is corresponds to Ridge regression."
   ]
  },
  {
   "cell_type": "markdown",
   "metadata": {},
   "source": [
    "Perform the following tasks:\n",
    "\n",
    "1. Does the elastic net require feature standardisation?\n",
    "2. Use [`ElasticNetCV`](https://scikit-learn.org/stable/modules/generated/sklearn.linear_model.ElasticNetCV.html)\n",
    "    to determine the best regularisation strength $\\alpha$ and L1 ratio $\\rho$ on the training sub-sample\n",
    "    using cross-validation with 5 folds.\n",
    "    You can use the MSE metric (the default) to find the optimal hyperparameter values.\n",
    "    Report the optimal $\\alpha$ and $\\rho$ and the corresponding MSE.\n",
    "3. Compute and report the MSE on the test sample for the model with optimal hyperparameters.\n",
    "4. Report the number of non-zero coefficients for the model with optimal hyperparameters.\n",
    "5. Plot the prediction errors (on the $y$-axis) against the outcome variable on the test sample.\n",
    "\n",
    "*Hints:* \n",
    "\n",
    "- Getting elastic net to converge may require some experimentation. The following settings should help: increase the max. number of iterations to `max_iter=100000` and use `selection='random'`. Set `random_state=123` to get reproducible results. \n",
    "\n",
    "    ```python\n",
    "    ElasticNetCV(..., max_iter=100000, selection='random', random_state=123)\n",
    "    ```\n",
    "\n",
    "- The grid for $\\alpha$ is determined in the same way as for `LassoCV`. For $\\rho$, use the argument `l1_ratio` to pass a grid of candidate L1 rations given by `[0.1, 0.5, 0.7, 0.9, 0.95, 0.99]`:\n",
    "\n",
    "    ```python\n",
    "    ElasticNetCV(..., l1_ratios=[0.1, 0.5, 0.7, 0.9, 0.95, 0.99], ...)\n",
    "    ```\n",
    "\n",
    "- Use [`ElasticNet`](https://scikit-learn.org/stable/modules/generated/sklearn.linear_model.ElasticNet.html) to estimate the elastic net once you identified the optimal hyperparameters.\n",
    "    Make sure to pass the same values for `max_iter`, `selection` and `random_state` as you did earlier."
   ]
  },
  {
   "cell_type": "markdown",
   "metadata": {},
   "source": [
    "## Compare estimation results\n",
    "\n",
    "Create a table which contains the MSE computed on the test sample for all four models (using their optimal hyperparameters). Which model yields the lowest MSE? Comment on why you think this is the case."
   ]
  }
 ],
 "metadata": {
  "kernelspec": {
   "display_name": "Python 3",
   "language": "python",
   "name": "python3"
  },
  "language_info": {
   "codemirror_mode": {
    "name": "ipython",
    "version": 3
   },
   "file_extension": ".py",
   "mimetype": "text/x-python",
   "name": "python",
   "nbconvert_exporter": "python",
   "pygments_lexer": "ipython3",
   "version": "3.8.3"
  },
  "vscode": {
   "interpreter": {
    "hash": "b0fa6594d8f4cbf19f97940f81e996739fb7646882a419484c72d19e05852a7e"
   }
  }
 },
 "nbformat": 4,
 "nbformat_minor": 4
}
